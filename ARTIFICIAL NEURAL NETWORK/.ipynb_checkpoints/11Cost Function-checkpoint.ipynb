{
 "cells": [
  {
   "cell_type": "code",
   "execution_count": 33,
   "id": "74f9b300",
   "metadata": {},
   "outputs": [],
   "source": [
    "import numpy as np\n",
    "import math"
   ]
  },
  {
   "cell_type": "code",
   "execution_count": 7,
   "id": "665e945f",
   "metadata": {},
   "outputs": [
    {
     "data": {
      "text/plain": [
       "5"
      ]
     },
     "execution_count": 7,
     "metadata": {},
     "output_type": "execute_result"
    }
   ],
   "source": [
    "y_predicted = np.array([1,1,0,0,1])\n",
    "y_truth = np.array([0.3,0.7,1,0,0.5])\n",
    "y_truth.size"
   ]
  },
  {
   "cell_type": "code",
   "execution_count": 12,
   "id": "092aa27c",
   "metadata": {},
   "outputs": [
    {
     "data": {
      "text/plain": [
       "0.5"
      ]
     },
     "execution_count": 12,
     "metadata": {},
     "output_type": "execute_result"
    }
   ],
   "source": [
    "#Using Fuction\n",
    "def mae(y_pred,y_true):\n",
    "    total = 0\n",
    "    for i in range(0,y_true.size):\n",
    "        total += abs(y_pred[i]-y_true[i])\n",
    "    return total/y_true.size\n",
    "mae(y_predicted,y_truth)"
   ]
  },
  {
   "cell_type": "code",
   "execution_count": 13,
   "id": "0226fff3",
   "metadata": {},
   "outputs": [
    {
     "data": {
      "text/plain": [
       "0.5"
      ]
     },
     "execution_count": 13,
     "metadata": {},
     "output_type": "execute_result"
    }
   ],
   "source": [
    "# Using Numpy\n",
    "np.mean(np.abs(y_predicted-y_truth))"
   ]
  },
  {
   "cell_type": "markdown",
   "id": "d35c6b81",
   "metadata": {},
   "source": [
    "LOG LOSS / BINARY CROSS ENTROPY"
   ]
  },
  {
   "cell_type": "code",
   "execution_count": 30,
   "id": "fa1f3844",
   "metadata": {
    "scrolled": true
   },
   "outputs": [
    {
     "data": {
      "text/plain": [
       "17.06168392251642"
      ]
     },
     "execution_count": 30,
     "metadata": {},
     "output_type": "execute_result"
    }
   ],
   "source": [
    "def log_loss(y_truth,y_predicted):\n",
    "    y_predicted = [ max(i,epsilon) for i in y_predicted]\n",
    "    y_predicted = [ min(i,1-epsilon) for i in y_predicted]\n",
    "    y_predicted = np.array(y_predicted)\n",
    "    return -np.mean(y_truth*np.log(y_predicted)+(1-y_truth)*np.log(1-y_predicted))\n",
    "log_loss(y_truth,y_predicted)"
   ]
  },
  {
   "cell_type": "markdown",
   "id": "b4191fc2",
   "metadata": {},
   "source": [
    "STEP BY STEP BREAK DOWN"
   ]
  },
  {
   "cell_type": "code",
   "execution_count": 17,
   "id": "b3c51ede",
   "metadata": {},
   "outputs": [],
   "source": [
    "# Handling log(0) and log(1-1) by replacing\n",
    "# 1->1.0000000001 and 0->0.000000000000001\n",
    "epsilon = 1e-15"
   ]
  },
  {
   "cell_type": "code",
   "execution_count": 23,
   "id": "baa5a8b4",
   "metadata": {},
   "outputs": [
    {
     "data": {
      "text/plain": [
       "[0.999999999999998, 0.999999999999998, 1e-15, 1e-15, 0.999999999999998]"
      ]
     },
     "execution_count": 23,
     "metadata": {},
     "output_type": "execute_result"
    }
   ],
   "source": [
    "y_predicted = [ max(i,epsilon) for i in y_predicted]\n",
    "y_predicted = [ min(i,1-epsilon) for i in y_predicted]\n",
    "y_predicted"
   ]
  },
  {
   "cell_type": "code",
   "execution_count": 25,
   "id": "931ba648",
   "metadata": {},
   "outputs": [],
   "source": [
    "#we used list comprehension so converting list into ndarray\n",
    "y_predicted = np.array(y_predicted)"
   ]
  },
  {
   "cell_type": "code",
   "execution_count": 26,
   "id": "de2e7f44",
   "metadata": {},
   "outputs": [
    {
     "data": {
      "text/plain": [
       "17.06168392251642"
      ]
     },
     "execution_count": 26,
     "metadata": {},
     "output_type": "execute_result"
    }
   ],
   "source": [
    "-np.mean(y_truth*np.log(y_predicted)+(1-y_truth)*np.log(1-y_predicted))"
   ]
  },
  {
   "cell_type": "markdown",
   "id": "b6f37cdd",
   "metadata": {},
   "source": [
    "MEAN SQUARED ERROR"
   ]
  },
  {
   "cell_type": "code",
   "execution_count": 36,
   "id": "68f937df",
   "metadata": {},
   "outputs": [],
   "source": [
    "predicted = [1,1,0,0,1]\n",
    "truth = [0.3,0.7,1,0,0.5]"
   ]
  },
  {
   "cell_type": "code",
   "execution_count": 41,
   "id": "baf24b1a",
   "metadata": {},
   "outputs": [
    {
     "data": {
      "text/plain": [
       "0.366"
      ]
     },
     "execution_count": 41,
     "metadata": {},
     "output_type": "execute_result"
    }
   ],
   "source": [
    "def mse(predicted,truth):\n",
    "    total = 0\n",
    "    for i in range(0,len(predicted)):\n",
    "        total += (predicted[i]-truth[i])**2\n",
    "    return total/predicted.size\n",
    "mse(predicted,truth)      "
   ]
  },
  {
   "cell_type": "code",
   "execution_count": 42,
   "id": "40777379",
   "metadata": {},
   "outputs": [],
   "source": [
    "predicted = np.array([1,1,0,0,1])\n",
    "truth = np.array([0.3,0.7,1,0,0.5])"
   ]
  },
  {
   "cell_type": "code",
   "execution_count": 43,
   "id": "8a9367fa",
   "metadata": {},
   "outputs": [
    {
     "data": {
      "text/plain": [
       "0.366"
      ]
     },
     "execution_count": 43,
     "metadata": {},
     "output_type": "execute_result"
    }
   ],
   "source": [
    "def mse_numpy(predicted,truth):\n",
    "    return np.mean(np.square(predicted-truth))\n",
    "mse(predicted,truth)"
   ]
  },
  {
   "cell_type": "code",
   "execution_count": null,
   "id": "26734805",
   "metadata": {},
   "outputs": [],
   "source": []
  }
 ],
 "metadata": {
  "kernelspec": {
   "display_name": "Python 3 (ipykernel)",
   "language": "python",
   "name": "python3"
  },
  "language_info": {
   "codemirror_mode": {
    "name": "ipython",
    "version": 3
   },
   "file_extension": ".py",
   "mimetype": "text/x-python",
   "name": "python",
   "nbconvert_exporter": "python",
   "pygments_lexer": "ipython3",
   "version": "3.10.6"
  }
 },
 "nbformat": 4,
 "nbformat_minor": 5
}

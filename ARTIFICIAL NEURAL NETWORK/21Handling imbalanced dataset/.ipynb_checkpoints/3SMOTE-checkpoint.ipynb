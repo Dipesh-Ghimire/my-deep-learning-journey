{
 "cells": [
  {
   "cell_type": "code",
   "execution_count": 7,
   "id": "fb750589",
   "metadata": {},
   "outputs": [
    {
     "data": {
      "text/plain": [
       "(7032, 24)"
      ]
     },
     "execution_count": 7,
     "metadata": {},
     "output_type": "execute_result"
    }
   ],
   "source": [
    "import pandas as pd\n",
    "pd.options.mode.chained_assignment = None\n",
    "import tensorflow\n",
    "from tensorflow import keras\n",
    "import numpy as np\n",
    "from sklearn.metrics import confusion_matrix,classification_report\n",
    "\n",
    "df = pd.read_csv('customer_churn_Preprocessed_data.csv',index_col=0)\n",
    "df.shape"
   ]
  },
  {
   "cell_type": "code",
   "execution_count": 14,
   "id": "91619dcf",
   "metadata": {},
   "outputs": [],
   "source": [
    "def ANN(x_train_ANN,x_test_ANN,y_train_ANN,y_test_ANN,loss_ANN,weights_ANN):\n",
    "    model_ANN = keras.Sequential([\n",
    "    keras.Input(shape=(26,)),\n",
    "    keras.layers.Dense(20,activation='relu'),\n",
    "    keras.layers.Dense(1,activation='sigmoid')])\n",
    "    \n",
    "    model_ANN.compile(optimizer='adam',loss=loss_ANN,metrics=['accuracy'])\n",
    "    if weights_ANN==-1:\n",
    "        model_ANN.fit(x_train_ANN,y_train_ANN,epochs=100)\n",
    "    else:\n",
    "        model_ANN.fit(x_train_ANN,y_train_ANN,epochs=100,class_weight=weights_ANN)\n",
    "    print(model_ANN.evaluate(x_test_ANN,y_test_ANN))\n",
    "    y_preds_ANN = model_ANN.predict(x_test_ANN)\n",
    "    y_preds_ANN = np.round(y_preds_ANN)\n",
    "    print(classification_report(y_test_ANN,y_preds_ANN))\n",
    "    return y_preds_ANN"
   ]
  },
  {
   "cell_type": "code",
   "execution_count": 15,
   "id": "c94f6820",
   "metadata": {},
   "outputs": [],
   "source": [
    "x = df.drop('Churn',axis='columns')\n",
    "y = df['Churn']\n",
    "from sklearn.model_selection import train_test_split\n",
    "x_train,x_test,y_train,y_test = train_test_split(x,y,test_size=0.1,random_state=15)"
   ]
  },
  {
   "cell_type": "code",
   "execution_count": 16,
   "id": "9650bb89",
   "metadata": {},
   "outputs": [
    {
     "data": {
      "text/plain": [
       "0    4649\n",
       "1    1679\n",
       "Name: Churn, dtype: int64"
      ]
     },
     "execution_count": 16,
     "metadata": {},
     "output_type": "execute_result"
    }
   ],
   "source": [
    "y_train.value_counts()\n",
    "#imbalanced"
   ]
  },
  {
   "cell_type": "code",
   "execution_count": 17,
   "id": "f66006b6",
   "metadata": {},
   "outputs": [
    {
     "data": {
      "text/plain": [
       "1    4649\n",
       "0    4649\n",
       "Name: Churn, dtype: int64"
      ]
     },
     "execution_count": 17,
     "metadata": {},
     "output_type": "execute_result"
    }
   ],
   "source": [
    "from imblearn.over_sampling import SMOTE\n",
    "\n",
    "smote = SMOTE(sampling_strategy='minority')\n",
    "x_sm,y_sm = smote.fit_resample(x_train,y_train)\n",
    "\n",
    "y_sm.value_counts()"
   ]
  },
  {
   "cell_type": "code",
   "execution_count": 18,
   "id": "d215078d",
   "metadata": {
    "scrolled": true
   },
   "outputs": [
    {
     "name": "stdout",
     "output_type": "stream",
     "text": [
      "Epoch 1/100\n",
      "291/291 [==============================] - 1s 1ms/step - loss: 0.5520 - accuracy: 0.7267\n",
      "Epoch 2/100\n",
      "291/291 [==============================] - 0s 1ms/step - loss: 0.4770 - accuracy: 0.7750\n",
      "Epoch 3/100\n",
      "291/291 [==============================] - 0s 1ms/step - loss: 0.4647 - accuracy: 0.7809\n",
      "Epoch 4/100\n",
      "291/291 [==============================] - 0s 1ms/step - loss: 0.4602 - accuracy: 0.7818\n",
      "Epoch 5/100\n",
      "291/291 [==============================] - 0s 1ms/step - loss: 0.4579 - accuracy: 0.7836\n",
      "Epoch 6/100\n",
      "291/291 [==============================] - 0s 1ms/step - loss: 0.4555 - accuracy: 0.7849\n",
      "Epoch 7/100\n",
      "291/291 [==============================] - 0s 1ms/step - loss: 0.4530 - accuracy: 0.7866\n",
      "Epoch 8/100\n",
      "291/291 [==============================] - 0s 1ms/step - loss: 0.4514 - accuracy: 0.7851\n",
      "Epoch 9/100\n",
      "291/291 [==============================] - 0s 1ms/step - loss: 0.4496 - accuracy: 0.7866\n",
      "Epoch 10/100\n",
      "291/291 [==============================] - 0s 1ms/step - loss: 0.4480 - accuracy: 0.7877\n",
      "Epoch 11/100\n",
      "291/291 [==============================] - 0s 1ms/step - loss: 0.4466 - accuracy: 0.7900\n",
      "Epoch 12/100\n",
      "291/291 [==============================] - 0s 1ms/step - loss: 0.4450 - accuracy: 0.7949\n",
      "Epoch 13/100\n",
      "291/291 [==============================] - 0s 1ms/step - loss: 0.4437 - accuracy: 0.7928\n",
      "Epoch 14/100\n",
      "291/291 [==============================] - 0s 1ms/step - loss: 0.4422 - accuracy: 0.7952\n",
      "Epoch 15/100\n",
      "291/291 [==============================] - 0s 1ms/step - loss: 0.4416 - accuracy: 0.7961\n",
      "Epoch 16/100\n",
      "291/291 [==============================] - 0s 1ms/step - loss: 0.4405 - accuracy: 0.7940\n",
      "Epoch 17/100\n",
      "291/291 [==============================] - 0s 1ms/step - loss: 0.4388 - accuracy: 0.7947\n",
      "Epoch 18/100\n",
      "291/291 [==============================] - 0s 1ms/step - loss: 0.4390 - accuracy: 0.7963\n",
      "Epoch 19/100\n",
      "291/291 [==============================] - 0s 1ms/step - loss: 0.4373 - accuracy: 0.7966\n",
      "Epoch 20/100\n",
      "291/291 [==============================] - 0s 1ms/step - loss: 0.4365 - accuracy: 0.7983\n",
      "Epoch 21/100\n",
      "291/291 [==============================] - 0s 1ms/step - loss: 0.4351 - accuracy: 0.7972\n",
      "Epoch 22/100\n",
      "291/291 [==============================] - 0s 1ms/step - loss: 0.4344 - accuracy: 0.7973\n",
      "Epoch 23/100\n",
      "291/291 [==============================] - 0s 1ms/step - loss: 0.4336 - accuracy: 0.7985\n",
      "Epoch 24/100\n",
      "291/291 [==============================] - 0s 1ms/step - loss: 0.4329 - accuracy: 0.7982\n",
      "Epoch 25/100\n",
      "291/291 [==============================] - 0s 1ms/step - loss: 0.4320 - accuracy: 0.8007\n",
      "Epoch 26/100\n",
      "291/291 [==============================] - 0s 1ms/step - loss: 0.4317 - accuracy: 0.8007\n",
      "Epoch 27/100\n",
      "291/291 [==============================] - 0s 1ms/step - loss: 0.4309 - accuracy: 0.7997\n",
      "Epoch 28/100\n",
      "291/291 [==============================] - 0s 1ms/step - loss: 0.4302 - accuracy: 0.8015\n",
      "Epoch 29/100\n",
      "291/291 [==============================] - 0s 1ms/step - loss: 0.4285 - accuracy: 0.8016\n",
      "Epoch 30/100\n",
      "291/291 [==============================] - 0s 1ms/step - loss: 0.4288 - accuracy: 0.8028\n",
      "Epoch 31/100\n",
      "291/291 [==============================] - 0s 1ms/step - loss: 0.4283 - accuracy: 0.8045\n",
      "Epoch 32/100\n",
      "291/291 [==============================] - 0s 1ms/step - loss: 0.4272 - accuracy: 0.8052\n",
      "Epoch 33/100\n",
      "291/291 [==============================] - 0s 1ms/step - loss: 0.4268 - accuracy: 0.8031\n",
      "Epoch 34/100\n",
      "291/291 [==============================] - 0s 1ms/step - loss: 0.4261 - accuracy: 0.8047\n",
      "Epoch 35/100\n",
      "291/291 [==============================] - 0s 1ms/step - loss: 0.4253 - accuracy: 0.8047\n",
      "Epoch 36/100\n",
      "291/291 [==============================] - 0s 1ms/step - loss: 0.4240 - accuracy: 0.8047\n",
      "Epoch 37/100\n",
      "291/291 [==============================] - 0s 1ms/step - loss: 0.4243 - accuracy: 0.8051\n",
      "Epoch 38/100\n",
      "291/291 [==============================] - 0s 1ms/step - loss: 0.4230 - accuracy: 0.8049\n",
      "Epoch 39/100\n",
      "291/291 [==============================] - 0s 1ms/step - loss: 0.4229 - accuracy: 0.8057\n",
      "Epoch 40/100\n",
      "291/291 [==============================] - 0s 1ms/step - loss: 0.4216 - accuracy: 0.8053\n",
      "Epoch 41/100\n",
      "291/291 [==============================] - 0s 1ms/step - loss: 0.4211 - accuracy: 0.8087\n",
      "Epoch 42/100\n",
      "291/291 [==============================] - 0s 1ms/step - loss: 0.4207 - accuracy: 0.8059\n",
      "Epoch 43/100\n",
      "291/291 [==============================] - 0s 1ms/step - loss: 0.4204 - accuracy: 0.8097\n",
      "Epoch 44/100\n",
      "291/291 [==============================] - 0s 1ms/step - loss: 0.4193 - accuracy: 0.8083\n",
      "Epoch 45/100\n",
      "291/291 [==============================] - 0s 1ms/step - loss: 0.4187 - accuracy: 0.8075\n",
      "Epoch 46/100\n",
      "291/291 [==============================] - 0s 1ms/step - loss: 0.4179 - accuracy: 0.8105\n",
      "Epoch 47/100\n",
      "291/291 [==============================] - 0s 1ms/step - loss: 0.4172 - accuracy: 0.8096\n",
      "Epoch 48/100\n",
      "291/291 [==============================] - 0s 1ms/step - loss: 0.4171 - accuracy: 0.8111\n",
      "Epoch 49/100\n",
      "291/291 [==============================] - 0s 1ms/step - loss: 0.4161 - accuracy: 0.8115\n",
      "Epoch 50/100\n",
      "291/291 [==============================] - 0s 1ms/step - loss: 0.4155 - accuracy: 0.8125\n",
      "Epoch 51/100\n",
      "291/291 [==============================] - 0s 1ms/step - loss: 0.4149 - accuracy: 0.8116\n",
      "Epoch 52/100\n",
      "291/291 [==============================] - 0s 1ms/step - loss: 0.4146 - accuracy: 0.8117\n",
      "Epoch 53/100\n",
      "291/291 [==============================] - 0s 1ms/step - loss: 0.4140 - accuracy: 0.8125\n",
      "Epoch 54/100\n",
      "291/291 [==============================] - 0s 1ms/step - loss: 0.4129 - accuracy: 0.8125\n",
      "Epoch 55/100\n",
      "291/291 [==============================] - 0s 1ms/step - loss: 0.4126 - accuracy: 0.8129\n",
      "Epoch 56/100\n",
      "291/291 [==============================] - 0s 1ms/step - loss: 0.4123 - accuracy: 0.8130\n",
      "Epoch 57/100\n",
      "291/291 [==============================] - 0s 1ms/step - loss: 0.4116 - accuracy: 0.8144\n",
      "Epoch 58/100\n",
      "291/291 [==============================] - 0s 1ms/step - loss: 0.4112 - accuracy: 0.8130\n",
      "Epoch 59/100\n",
      "291/291 [==============================] - 0s 1ms/step - loss: 0.4103 - accuracy: 0.8149\n",
      "Epoch 60/100\n",
      "291/291 [==============================] - 0s 1ms/step - loss: 0.4088 - accuracy: 0.8140\n",
      "Epoch 61/100\n",
      "291/291 [==============================] - 0s 1ms/step - loss: 0.4091 - accuracy: 0.8148\n",
      "Epoch 62/100\n",
      "291/291 [==============================] - 0s 1ms/step - loss: 0.4093 - accuracy: 0.8162\n",
      "Epoch 63/100\n",
      "291/291 [==============================] - 0s 1ms/step - loss: 0.4082 - accuracy: 0.8169\n",
      "Epoch 64/100\n",
      "291/291 [==============================] - 0s 1ms/step - loss: 0.4071 - accuracy: 0.8168\n",
      "Epoch 65/100\n",
      "291/291 [==============================] - 0s 1ms/step - loss: 0.4077 - accuracy: 0.8169\n",
      "Epoch 66/100\n",
      "291/291 [==============================] - 0s 1ms/step - loss: 0.4067 - accuracy: 0.8164\n",
      "Epoch 67/100\n",
      "291/291 [==============================] - 0s 1ms/step - loss: 0.4056 - accuracy: 0.8158\n",
      "Epoch 68/100\n",
      "291/291 [==============================] - 0s 1ms/step - loss: 0.4057 - accuracy: 0.8178\n",
      "Epoch 69/100\n",
      "291/291 [==============================] - 0s 1ms/step - loss: 0.4051 - accuracy: 0.8171\n",
      "Epoch 70/100\n",
      "291/291 [==============================] - 0s 1ms/step - loss: 0.4046 - accuracy: 0.8194\n",
      "Epoch 71/100\n",
      "291/291 [==============================] - 0s 1ms/step - loss: 0.4045 - accuracy: 0.8181\n",
      "Epoch 72/100\n",
      "291/291 [==============================] - 0s 1ms/step - loss: 0.4036 - accuracy: 0.8196\n",
      "Epoch 73/100\n",
      "291/291 [==============================] - 0s 1ms/step - loss: 0.4036 - accuracy: 0.8190\n",
      "Epoch 74/100\n",
      "291/291 [==============================] - 0s 1ms/step - loss: 0.4027 - accuracy: 0.8183\n",
      "Epoch 75/100\n",
      "291/291 [==============================] - 0s 1ms/step - loss: 0.4026 - accuracy: 0.8196\n",
      "Epoch 76/100\n",
      "291/291 [==============================] - 0s 1ms/step - loss: 0.4015 - accuracy: 0.8194\n",
      "Epoch 77/100\n",
      "291/291 [==============================] - 0s 1ms/step - loss: 0.4012 - accuracy: 0.8223\n",
      "Epoch 78/100\n",
      "291/291 [==============================] - 0s 1ms/step - loss: 0.4022 - accuracy: 0.8207\n",
      "Epoch 79/100\n",
      "291/291 [==============================] - 0s 1ms/step - loss: 0.4016 - accuracy: 0.8209\n",
      "Epoch 80/100\n",
      "291/291 [==============================] - 0s 1ms/step - loss: 0.4008 - accuracy: 0.8219\n",
      "Epoch 81/100\n"
     ]
    },
    {
     "name": "stdout",
     "output_type": "stream",
     "text": [
      "291/291 [==============================] - 0s 1ms/step - loss: 0.3999 - accuracy: 0.8210\n",
      "Epoch 82/100\n",
      "291/291 [==============================] - 0s 1ms/step - loss: 0.4000 - accuracy: 0.8220\n",
      "Epoch 83/100\n",
      "291/291 [==============================] - 0s 1ms/step - loss: 0.3990 - accuracy: 0.8222\n",
      "Epoch 84/100\n",
      "291/291 [==============================] - 0s 1ms/step - loss: 0.3993 - accuracy: 0.8219\n",
      "Epoch 85/100\n",
      "291/291 [==============================] - 0s 1ms/step - loss: 0.3988 - accuracy: 0.8233\n",
      "Epoch 86/100\n",
      "291/291 [==============================] - 0s 1ms/step - loss: 0.3980 - accuracy: 0.8208\n",
      "Epoch 87/100\n",
      "291/291 [==============================] - 0s 1ms/step - loss: 0.3978 - accuracy: 0.8213\n",
      "Epoch 88/100\n",
      "291/291 [==============================] - 0s 1ms/step - loss: 0.3968 - accuracy: 0.8225\n",
      "Epoch 89/100\n",
      "291/291 [==============================] - 0s 1ms/step - loss: 0.3977 - accuracy: 0.8217\n",
      "Epoch 90/100\n",
      "291/291 [==============================] - 0s 1ms/step - loss: 0.3967 - accuracy: 0.8259\n",
      "Epoch 91/100\n",
      "291/291 [==============================] - 0s 1ms/step - loss: 0.3965 - accuracy: 0.8228\n",
      "Epoch 92/100\n",
      "291/291 [==============================] - 0s 1ms/step - loss: 0.3957 - accuracy: 0.8240\n",
      "Epoch 93/100\n",
      "291/291 [==============================] - 0s 1ms/step - loss: 0.3959 - accuracy: 0.8236\n",
      "Epoch 94/100\n",
      "291/291 [==============================] - 0s 1ms/step - loss: 0.3966 - accuracy: 0.8228\n",
      "Epoch 95/100\n",
      "291/291 [==============================] - 0s 1ms/step - loss: 0.3945 - accuracy: 0.8237\n",
      "Epoch 96/100\n",
      "291/291 [==============================] - 0s 1ms/step - loss: 0.3950 - accuracy: 0.8234\n",
      "Epoch 97/100\n",
      "291/291 [==============================] - 0s 1ms/step - loss: 0.3944 - accuracy: 0.8251\n",
      "Epoch 98/100\n",
      "291/291 [==============================] - 0s 1ms/step - loss: 0.3948 - accuracy: 0.8239\n",
      "Epoch 99/100\n",
      "291/291 [==============================] - 0s 1ms/step - loss: 0.3938 - accuracy: 0.8256\n",
      "Epoch 100/100\n",
      "291/291 [==============================] - 0s 1ms/step - loss: 0.3940 - accuracy: 0.8244\n",
      "22/22 [==============================] - 0s 1ms/step - loss: 0.5000 - accuracy: 0.7344\n",
      "[0.5000026226043701, 0.734375]\n",
      "22/22 [==============================] - 0s 967us/step\n",
      "              precision    recall  f1-score   support\n",
      "\n",
      "           0       0.87      0.75      0.81       514\n",
      "           1       0.51      0.68      0.58       190\n",
      "\n",
      "    accuracy                           0.73       704\n",
      "   macro avg       0.69      0.72      0.69       704\n",
      "weighted avg       0.77      0.73      0.75       704\n",
      "\n"
     ]
    }
   ],
   "source": [
    "y_predicted = ANN(x_sm,x_test,y_sm,y_test,'binary_crossentropy',-1)"
   ]
  },
  {
   "cell_type": "raw",
   "id": "42d23d7e",
   "metadata": {},
   "source": [
    "              precision    recall  f1-score   support\n",
    "\n",
    "           0       0.83      0.87      0.85       999\n",
    "           1       0.64      0.58      0.61       408\n",
    "\n",
    "    accuracy                           0.79      1407\n",
    "   macro avg       0.74      0.72      0.73      1407\n",
    "weighted avg       0.78      0.79      0.78      1407\n"
   ]
  },
  {
   "cell_type": "code",
   "execution_count": 19,
   "id": "6a28fa9e",
   "metadata": {},
   "outputs": [],
   "source": [
    "df_new = x_sm.copy()\n",
    "df_new['Churn'] = y"
   ]
  },
  {
   "cell_type": "code",
   "execution_count": null,
   "id": "b339dfb1",
   "metadata": {},
   "outputs": [],
   "source": []
  }
 ],
 "metadata": {
  "kernelspec": {
   "display_name": "Python 3 (ipykernel)",
   "language": "python",
   "name": "python3"
  },
  "language_info": {
   "codemirror_mode": {
    "name": "ipython",
    "version": 3
   },
   "file_extension": ".py",
   "mimetype": "text/x-python",
   "name": "python",
   "nbconvert_exporter": "python",
   "pygments_lexer": "ipython3",
   "version": "3.10.6"
  }
 },
 "nbformat": 4,
 "nbformat_minor": 5
}

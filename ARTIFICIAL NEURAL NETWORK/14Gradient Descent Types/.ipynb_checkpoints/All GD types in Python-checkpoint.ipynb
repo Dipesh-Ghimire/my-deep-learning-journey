{
 "cells": [
  {
   "cell_type": "code",
   "execution_count": 1,
   "id": "f660a5e7",
   "metadata": {},
   "outputs": [],
   "source": [
    "import pandas as pd\n",
    "import numpy as np\n",
    "import matplotlib.pyplot as plt\n",
    "%matplotlib inline"
   ]
  },
  {
   "cell_type": "code",
   "execution_count": 2,
   "id": "de094345",
   "metadata": {},
   "outputs": [
    {
     "data": {
      "text/html": [
       "<div>\n",
       "<style scoped>\n",
       "    .dataframe tbody tr th:only-of-type {\n",
       "        vertical-align: middle;\n",
       "    }\n",
       "\n",
       "    .dataframe tbody tr th {\n",
       "        vertical-align: top;\n",
       "    }\n",
       "\n",
       "    .dataframe thead th {\n",
       "        text-align: right;\n",
       "    }\n",
       "</style>\n",
       "<table border=\"1\" class=\"dataframe\">\n",
       "  <thead>\n",
       "    <tr style=\"text-align: right;\">\n",
       "      <th></th>\n",
       "      <th>area</th>\n",
       "      <th>bedrooms</th>\n",
       "      <th>price</th>\n",
       "    </tr>\n",
       "  </thead>\n",
       "  <tbody>\n",
       "    <tr>\n",
       "      <th>0</th>\n",
       "      <td>1056</td>\n",
       "      <td>2</td>\n",
       "      <td>39.07</td>\n",
       "    </tr>\n",
       "    <tr>\n",
       "      <th>1</th>\n",
       "      <td>2600</td>\n",
       "      <td>4</td>\n",
       "      <td>120.00</td>\n",
       "    </tr>\n",
       "    <tr>\n",
       "      <th>2</th>\n",
       "      <td>1440</td>\n",
       "      <td>3</td>\n",
       "      <td>62.00</td>\n",
       "    </tr>\n",
       "    <tr>\n",
       "      <th>3</th>\n",
       "      <td>1521</td>\n",
       "      <td>3</td>\n",
       "      <td>75.00</td>\n",
       "    </tr>\n",
       "    <tr>\n",
       "      <th>4</th>\n",
       "      <td>1200</td>\n",
       "      <td>2</td>\n",
       "      <td>51.00</td>\n",
       "    </tr>\n",
       "  </tbody>\n",
       "</table>\n",
       "</div>"
      ],
      "text/plain": [
       "   area  bedrooms   price\n",
       "0  1056         2   39.07\n",
       "1  2600         4  120.00\n",
       "2  1440         3   62.00\n",
       "3  1521         3   75.00\n",
       "4  1200         2   51.00"
      ]
     },
     "execution_count": 2,
     "metadata": {},
     "output_type": "execute_result"
    }
   ],
   "source": [
    "df = pd.read_csv(\"homeprices_banglore.CSV\")\n",
    "df.head()"
   ]
  },
  {
   "cell_type": "code",
   "execution_count": 3,
   "id": "326f37e7",
   "metadata": {},
   "outputs": [
    {
     "data": {
      "text/plain": [
       "3700"
      ]
     },
     "execution_count": 3,
     "metadata": {},
     "output_type": "execute_result"
    }
   ],
   "source": [
    "df.area.max()"
   ]
  },
  {
   "cell_type": "code",
   "execution_count": 11,
   "id": "6a437ec9",
   "metadata": {},
   "outputs": [],
   "source": [
    "from sklearn import preprocessing\n",
    "sx = preprocessing.MinMaxScaler()\n",
    "sy = preprocessing.MinMaxScaler()\n",
    "scaled_x = sx.fit_transform(df.drop('price',axis='columns'))\n",
    "scaled_y = sy.fit_transform(df[['price']])\n",
    "#expected 2D array\n",
    "# scaled_y = sy.fit_transform(df.price.values.reshape(df.shape[0],1))"
   ]
  },
  {
   "cell_type": "code",
   "execution_count": 12,
   "id": "a75056c8",
   "metadata": {},
   "outputs": [
    {
     "data": {
      "text/plain": [
       "(array([[0.08827586, 0.25      ],\n",
       "        [0.62068966, 0.75      ],\n",
       "        [0.22068966, 0.5       ],\n",
       "        [0.24862069, 0.5       ],\n",
       "        [0.13793103, 0.25      ],\n",
       "        [0.12758621, 0.25      ],\n",
       "        [0.6662069 , 0.75      ],\n",
       "        [0.86206897, 0.75      ],\n",
       "        [0.17586207, 0.5       ],\n",
       "        [1.        , 1.        ],\n",
       "        [0.34482759, 0.5       ],\n",
       "        [0.68448276, 0.75      ],\n",
       "        [0.06896552, 0.25      ],\n",
       "        [0.10344828, 0.25      ],\n",
       "        [0.5       , 0.5       ],\n",
       "        [0.12931034, 0.25      ],\n",
       "        [0.13103448, 0.5       ],\n",
       "        [0.25517241, 0.5       ],\n",
       "        [0.67931034, 0.5       ],\n",
       "        [0.        , 0.        ]]),\n",
       " array([[0.05237037],\n",
       "        [0.65185185],\n",
       "        [0.22222222],\n",
       "        [0.31851852],\n",
       "        [0.14074074],\n",
       "        [0.04444444],\n",
       "        [0.76296296],\n",
       "        [0.91111111],\n",
       "        [0.13333333],\n",
       "        [1.        ],\n",
       "        [0.37037037],\n",
       "        [0.8       ],\n",
       "        [0.04444444],\n",
       "        [0.05925926],\n",
       "        [0.51111111],\n",
       "        [0.07407407],\n",
       "        [0.11851852],\n",
       "        [0.20740741],\n",
       "        [0.51851852],\n",
       "        [0.        ]]))"
      ]
     },
     "execution_count": 12,
     "metadata": {},
     "output_type": "execute_result"
    }
   ],
   "source": [
    "scaled_x,scaled_y"
   ]
  },
  {
   "cell_type": "code",
   "execution_count": 34,
   "id": "84cbb1a9",
   "metadata": {},
   "outputs": [],
   "source": [
    "def batch_gradient_descent(x,y_true,epochs,learning_rate = 0.01):\n",
    "    cost_list = []\n",
    "    epoch_list = []\n",
    "    total_samples = x.shape[0]\n",
    "    no_of_features = x.shape[1]\n",
    "    #x.shape returns (nrow,ncol)\n",
    "    \n",
    "    w = np.ones(shape=(no_of_features)) \n",
    "    #initialize np array w with [1,1]\n",
    "    bias = 0\n",
    "    \n",
    "    for i in range(epochs):\n",
    "        y_predicted = np.dot(w,scaled_x.T) + bias # w1*area + w2*bedroom\n",
    "          \n",
    "        w_der = -(2/total_samples)*(x.T.dot(y_true-y_predicted))\n",
    "        bias_der = -(2/total_samples)* np.sum(y_true-y_predicted)\n",
    "        \n",
    "        w = w - learning_rate*w_der\n",
    "        bias = bias - learning_rate*bias_der\n",
    "        \n",
    "        cost = np.mean(np.square(y_predicted-y_true))\n",
    "        \n",
    "        if i%10==0:\n",
    "            cost_list.append(cost)\n",
    "            epoch_list.append(i)\n",
    "    return w,bias,cost,cost_list,epoch_list"
   ]
  },
  {
   "cell_type": "code",
   "execution_count": 35,
   "id": "18649f1d",
   "metadata": {},
   "outputs": [
    {
     "data": {
      "text/plain": [
       "(array([0.70712464, 0.67456527]), -0.23034857438407427, 0.0068641890429808105)"
      ]
     },
     "execution_count": 35,
     "metadata": {},
     "output_type": "execute_result"
    }
   ],
   "source": [
    "w,bias,cost,cost_list,epoch_list = batch_gradient_descent(scaled_x,scaled_y.reshape(scaled_y.shape[0]),500)\n",
    "w,bias,cost"
   ]
  },
  {
   "cell_type": "code",
   "execution_count": 36,
   "id": "ae4f3d13",
   "metadata": {},
   "outputs": [
    {
     "data": {
      "text/plain": [
       "[<matplotlib.lines.Line2D at 0x1fbc930cca0>]"
      ]
     },
     "execution_count": 36,
     "metadata": {},
     "output_type": "execute_result"
    },
    {
     "data": {
      "image/png": "[encoded data removed]",
      "text/plain": [
       "<Figure size 640x480 with 1 Axes>"
      ]
     },
     "metadata": {},
     "output_type": "display_data"
    }
   ],
   "source": [
    "plt.xlabel(\"Epoch\")\n",
    "plt.ylabel(\"Cost\")\n",
    "plt.plot(epoch_list,cost_list)"
   ]
  },
  {
   "cell_type": "code",
   "execution_count": null,
   "id": "edfdf06b",
   "metadata": {},
   "outputs": [],
   "source": []
  }
 ],
 "metadata": {
  "kernelspec": {
   "display_name": "Python 3 (ipykernel)",
   "language": "python",
   "name": "python3"
  },
  "language_info": {
   "codemirror_mode": {
    "name": "ipython",
    "version": 3
   },
   "file_extension": ".py",
   "mimetype": "text/x-python",
   "name": "python",
   "nbconvert_exporter": "python",
   "pygments_lexer": "ipython3",
   "version": "3.10.6"
  }
 },
 "nbformat": 4,
 "nbformat_minor": 5
}

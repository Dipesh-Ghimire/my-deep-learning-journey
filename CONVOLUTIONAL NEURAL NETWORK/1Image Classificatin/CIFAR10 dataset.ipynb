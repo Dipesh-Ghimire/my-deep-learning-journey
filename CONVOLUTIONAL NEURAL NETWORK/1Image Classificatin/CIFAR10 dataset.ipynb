{
 "cells": [
  {
   "cell_type": "markdown",
   "id": "118a4b9c",
   "metadata": {},
   "source": [
    "# 1. DATA EXPLORATION"
   ]
  },
  {
   "cell_type": "code",
   "execution_count": 3,
   "id": "bd2abefa",
   "metadata": {},
   "outputs": [],
   "source": [
    "import pandas as pd\n",
    "import numpy as np\n",
    "import tensorflow \n",
    "from tensorflow import keras\n",
    "from tensorflow.keras import datasets,layers,models\n",
    "import matplotlib.pyplot as plt"
   ]
  },
  {
   "cell_type": "code",
   "execution_count": 25,
   "id": "09244506",
   "metadata": {},
   "outputs": [],
   "source": [
    "class_label = ['airplane','automobile','bird','cat','deer','dog','frog','horse','ship','truck']"
   ]
  },
  {
   "cell_type": "code",
   "execution_count": 5,
   "id": "e8c922f8",
   "metadata": {},
   "outputs": [],
   "source": [
    "(x_train,y_train),(x_test,y_test)=datasets.cifar10.load_data()"
   ]
  },
  {
   "cell_type": "code",
   "execution_count": 6,
   "id": "13652d6f",
   "metadata": {},
   "outputs": [
    {
     "data": {
      "text/plain": [
       "((50000, 32, 32, 3), (50000, 1))"
      ]
     },
     "execution_count": 6,
     "metadata": {},
     "output_type": "execute_result"
    }
   ],
   "source": [
    "x_train.shape,y_train.shape"
   ]
  },
  {
   "cell_type": "code",
   "execution_count": 7,
   "id": "c8fba229",
   "metadata": {},
   "outputs": [
    {
     "data": {
      "text/plain": [
       "((10000, 32, 32, 3), (10000, 1))"
      ]
     },
     "execution_count": 7,
     "metadata": {},
     "output_type": "execute_result"
    }
   ],
   "source": [
    "x_test.shape,y_test.shape"
   ]
  },
  {
   "cell_type": "code",
   "execution_count": 9,
   "id": "5d968661",
   "metadata": {},
   "outputs": [
    {
     "data": {
      "text/plain": [
       "(32, 32, 3)"
      ]
     },
     "execution_count": 9,
     "metadata": {},
     "output_type": "execute_result"
    }
   ],
   "source": [
    "x_train[0].shape\n",
    "#32*32 pixels of 3D Red,Green,Blue"
   ]
  },
  {
   "cell_type": "code",
   "execution_count": 29,
   "id": "2b91816f",
   "metadata": {},
   "outputs": [
    {
     "data": {
      "text/plain": [
       "array([6, 9, 9, ..., 9, 1, 1], dtype=uint8)"
      ]
     },
     "execution_count": 29,
     "metadata": {},
     "output_type": "execute_result"
    }
   ],
   "source": [
    "y_train = y_train.reshape(-1,)\n",
    "y_train"
   ]
  },
  {
   "cell_type": "code",
   "execution_count": 32,
   "id": "ead2c89d",
   "metadata": {},
   "outputs": [],
   "source": [
    "#plotting\n",
    "def plotsample(x,y,index):\n",
    "    plt.figure(figsize=(1,1))\n",
    "    plt.imshow(x[index])\n",
    "    plt.xlabel(class_label[y[index]])"
   ]
  },
  {
   "cell_type": "code",
   "execution_count": 36,
   "id": "12ff6540",
   "metadata": {
    "scrolled": true
   },
   "outputs": [
    {
     "data": {
      "image/png": "[encoded data removed]",
      "text/plain": [
       "<Figure size 100x100 with 1 Axes>"
      ]
     },
     "metadata": {},
     "output_type": "display_data"
    }
   ],
   "source": [
    "plotsample(x_train,y_train,3)"
   ]
  },
  {
   "cell_type": "markdown",
   "id": "92aa348a",
   "metadata": {},
   "source": [
    "# 2. Data Normalization"
   ]
  },
  {
   "cell_type": "code",
   "execution_count": 39,
   "id": "0b2de33e",
   "metadata": {},
   "outputs": [],
   "source": [
    "x_train = x_train/255\n",
    "x_test = x_test/255"
   ]
  },
  {
   "cell_type": "code",
   "execution_count": 42,
   "id": "182b0d47",
   "metadata": {},
   "outputs": [],
   "source": [
    "#No need: Just use Sparse categorical Crossentropy where Labels are Integers\n",
    "# y_train_categorical = keras.utils.to_categorical(y_train,num_classes=10)\n",
    "# y_test_categorical = keras.utils.to_categorical(y_test,num_classes=10)"
   ]
  },
  {
   "cell_type": "code",
   "execution_count": 44,
   "id": "c134f1f8",
   "metadata": {},
   "outputs": [
    {
     "data": {
      "text/plain": [
       "(50000, 10)"
      ]
     },
     "execution_count": 44,
     "metadata": {},
     "output_type": "execute_result"
    }
   ],
   "source": [
    "y_train_categorical.shape"
   ]
  },
  {
   "cell_type": "markdown",
   "id": "224917fb",
   "metadata": {},
   "source": [
    "# ANN MODEL"
   ]
  },
  {
   "cell_type": "code",
   "execution_count": 46,
   "id": "99cf64c7",
   "metadata": {},
   "outputs": [
    {
     "name": "stdout",
     "output_type": "stream",
     "text": [
      "Epoch 1/5\n",
      "1563/1563 [==============================] - 52s 33ms/step - loss: 1.8128\n",
      "Epoch 2/5\n",
      "1563/1563 [==============================] - 53s 34ms/step - loss: 1.6235\n",
      "Epoch 3/5\n",
      "1563/1563 [==============================] - 54s 34ms/step - loss: 1.5424\n",
      "Epoch 4/5\n",
      "1563/1563 [==============================] - 53s 34ms/step - loss: 1.4791\n",
      "Epoch 5/5\n",
      "1563/1563 [==============================] - 53s 34ms/step - loss: 1.4312\n"
     ]
    },
    {
     "data": {
      "text/plain": [
       "<keras.callbacks.History at 0x2956b492800>"
      ]
     },
     "execution_count": 46,
     "metadata": {},
     "output_type": "execute_result"
    }
   ],
   "source": [
    "model = keras.Sequential([\n",
    "    keras.layers.Flatten(input_shape=(32,32,3)),\n",
    "    keras.layers.Dense(3000,activation='relu'),\n",
    "    keras.layers.Dense(1000,activation='relu'),\n",
    "    keras.layers.Dense(10,activation='sigmoid')\n",
    "])\n",
    "model.compile(optimizer='SGD',loss='sparse_categorical_crossentropy',metrics=['accuracy'])\n",
    "model.fit(x_train,y_train,epochs=5)"
   ]
  },
  {
   "cell_type": "code",
   "execution_count": 47,
   "id": "05f37157",
   "metadata": {},
   "outputs": [
    {
     "name": "stdout",
     "output_type": "stream",
     "text": [
      "313/313 [==============================] - 3s 8ms/step - loss: 1.4895\n"
     ]
    },
    {
     "data": {
      "text/plain": [
       "1.489500880241394"
      ]
     },
     "execution_count": 47,
     "metadata": {},
     "output_type": "execute_result"
    }
   ],
   "source": [
    "model.evaluate(x_test,y_test)"
   ]
  },
  {
   "cell_type": "code",
   "execution_count": 49,
   "id": "5a110905",
   "metadata": {},
   "outputs": [
    {
     "name": "stdout",
     "output_type": "stream",
     "text": [
      "313/313 [==============================] - 2s 8ms/step\n",
      "              precision    recall  f1-score   support\n",
      "\n",
      "           0       0.70      0.45      0.54      1000\n",
      "           1       0.57      0.58      0.58      1000\n",
      "           2       0.48      0.18      0.26      1000\n",
      "           3       0.25      0.63      0.36      1000\n",
      "           4       0.48      0.34      0.40      1000\n",
      "           5       0.41      0.31      0.35      1000\n",
      "           6       0.60      0.41      0.48      1000\n",
      "           7       0.53      0.59      0.56      1000\n",
      "           8       0.70      0.51      0.59      1000\n",
      "           9       0.44      0.68      0.54      1000\n",
      "\n",
      "    accuracy                           0.47     10000\n",
      "   macro avg       0.52      0.47      0.47     10000\n",
      "weighted avg       0.52      0.47      0.47     10000\n",
      "\n"
     ]
    }
   ],
   "source": [
    "from sklearn.metrics import confusion_matrix,classification_report\n",
    "y_pred = model.predict(x_test)\n",
    "y_pred_classes = [np.argmax(element) for element in y_pred]\n",
    "\n",
    "print(classification_report(y_test,y_pred_classes))"
   ]
  },
  {
   "cell_type": "code",
   "execution_count": 50,
   "id": "cfa01bfb",
   "metadata": {},
   "outputs": [],
   "source": [
    "#ANN is performing really BAD"
   ]
  },
  {
   "cell_type": "markdown",
   "id": "0c8107f9",
   "metadata": {},
   "source": [
    "# Convolutional NN"
   ]
  },
  {
   "cell_type": "code",
   "execution_count": 51,
   "id": "8b315775",
   "metadata": {},
   "outputs": [],
   "source": [
    "cnn = models.Sequential([\n",
    "    #cnn layers\n",
    "    layers.Conv2D(filters=32,kernel_size=(3,3),activation='relu',input_shape=(32,32,3)),\n",
    "    layers.MaxPooling2D((2,2)),\n",
    "    #cnn layers\n",
    "    layers.Conv2D(filters=64,kernel_size=(3,3),activation='relu'),\n",
    "    layers.MaxPooling2D((2,2)),\n",
    "    #ann layers\n",
    "    layers.Flatten(),\n",
    "    layers.Dense(64,activation='relu'),\n",
    "    layers.Dense(10,activation='softmax')\n",
    "])"
   ]
  },
  {
   "cell_type": "code",
   "execution_count": 52,
   "id": "2a2a4475",
   "metadata": {},
   "outputs": [
    {
     "name": "stdout",
     "output_type": "stream",
     "text": [
      "Epoch 1/10\n",
      "1563/1563 [==============================] - 24s 15ms/step - loss: 1.4592 - accuracy: 0.4788\n",
      "Epoch 2/10\n",
      "1563/1563 [==============================] - 24s 15ms/step - loss: 1.1230 - accuracy: 0.6068\n",
      "Epoch 3/10\n",
      "1563/1563 [==============================] - 25s 16ms/step - loss: 0.9866 - accuracy: 0.6550\n",
      "Epoch 4/10\n",
      "1563/1563 [==============================] - 25s 16ms/step - loss: 0.9003 - accuracy: 0.6868\n",
      "Epoch 5/10\n",
      "1563/1563 [==============================] - 25s 16ms/step - loss: 0.8336 - accuracy: 0.7107\n",
      "Epoch 6/10\n",
      "1563/1563 [==============================] - 26s 16ms/step - loss: 0.7766 - accuracy: 0.7319\n",
      "Epoch 7/10\n",
      "1563/1563 [==============================] - 25s 16ms/step - loss: 0.7293 - accuracy: 0.7454\n",
      "Epoch 8/10\n",
      "1563/1563 [==============================] - 25s 16ms/step - loss: 0.6811 - accuracy: 0.7627\n",
      "Epoch 9/10\n",
      "1563/1563 [==============================] - 25s 16ms/step - loss: 0.6372 - accuracy: 0.7778\n",
      "Epoch 10/10\n",
      "1563/1563 [==============================] - 25s 16ms/step - loss: 0.5995 - accuracy: 0.7905\n"
     ]
    },
    {
     "data": {
      "text/plain": [
       "<keras.callbacks.History at 0x2956d9f1ed0>"
      ]
     },
     "execution_count": 52,
     "metadata": {},
     "output_type": "execute_result"
    }
   ],
   "source": [
    "cnn.compile(optimizer='adam',loss='sparse_categorical_crossentropy',metrics=['accuracy'])\n",
    "cnn.fit(x_train,y_train,epochs=10)"
   ]
  },
  {
   "cell_type": "code",
   "execution_count": 53,
   "id": "dad45a49",
   "metadata": {},
   "outputs": [
    {
     "name": "stdout",
     "output_type": "stream",
     "text": [
      "313/313 [==============================] - 2s 5ms/step - loss: 0.8966 - accuracy: 0.7035\n"
     ]
    },
    {
     "data": {
      "text/plain": [
       "[0.8966281414031982, 0.703499972820282]"
      ]
     },
     "execution_count": 53,
     "metadata": {},
     "output_type": "execute_result"
    }
   ],
   "source": [
    "cnn.evaluate(x_test,y_test)"
   ]
  },
  {
   "cell_type": "code",
   "execution_count": 55,
   "id": "a303ea3f",
   "metadata": {},
   "outputs": [
    {
     "data": {
      "image/png": "[encoded data removed]",
      "text/plain": [
       "<Figure size 100x100 with 1 Axes>"
      ]
     },
     "metadata": {},
     "output_type": "display_data"
    }
   ],
   "source": [
    "plotsample(x_test,y_test.reshape(-1),1)"
   ]
  },
  {
   "cell_type": "code",
   "execution_count": 57,
   "id": "7d48dc71",
   "metadata": {},
   "outputs": [
    {
     "name": "stdout",
     "output_type": "stream",
     "text": [
      "313/313 [==============================] - 1s 4ms/step\n"
     ]
    },
    {
     "data": {
      "text/plain": [
       "array([[1.4375213e-02, 2.0807937e-03, 8.4330924e-03, ..., 4.1985733e-04,\n",
       "        5.5570021e-02, 5.2722986e-03],\n",
       "       [2.4880113e-03, 3.9280942e-03, 9.8774026e-06, ..., 2.9036806e-09,\n",
       "        9.9324131e-01, 3.3235212e-04],\n",
       "       [2.9668698e-01, 4.7643834e-01, 4.4099665e-03, ..., 3.8255166e-02,\n",
       "        1.5746805e-01, 8.9998813e-03],\n",
       "       ...,\n",
       "       [1.2637823e-06, 1.1106382e-06, 3.2746278e-02, ..., 4.4072606e-03,\n",
       "        2.7896372e-06, 3.1029729e-06],\n",
       "       [3.7465128e-01, 3.9936647e-01, 1.2163459e-02, ..., 4.4515678e-03,\n",
       "        9.9754427e-04, 8.5858032e-05],\n",
       "       [2.1979378e-07, 1.2887838e-06, 3.1473261e-05, ..., 9.9795628e-01,\n",
       "        1.9271646e-07, 6.2670478e-07]], dtype=float32)"
      ]
     },
     "execution_count": 57,
     "metadata": {},
     "output_type": "execute_result"
    }
   ],
   "source": [
    "y_pred_cnn = cnn.predict(x_test)\n",
    "y_pred_cnn"
   ]
  },
  {
   "cell_type": "code",
   "execution_count": 58,
   "id": "67cfd6a5",
   "metadata": {},
   "outputs": [
    {
     "data": {
      "text/plain": [
       "[3, 8, 1, 0, 6]"
      ]
     },
     "execution_count": 58,
     "metadata": {},
     "output_type": "execute_result"
    }
   ],
   "source": [
    "y_classes_cnn = [np.argmax(element) for element in y_pred_cnn]\n",
    "y_classes_cnn[0:5]"
   ]
  },
  {
   "cell_type": "code",
   "execution_count": 59,
   "id": "d1b713b7",
   "metadata": {},
   "outputs": [
    {
     "data": {
      "text/plain": [
       "array([[3],\n",
       "       [8],\n",
       "       [8],\n",
       "       [0],\n",
       "       [6]], dtype=uint8)"
      ]
     },
     "execution_count": 59,
     "metadata": {},
     "output_type": "execute_result"
    }
   ],
   "source": [
    "y_test[0:5]"
   ]
  },
  {
   "cell_type": "code",
   "execution_count": 60,
   "id": "de6cf08c",
   "metadata": {},
   "outputs": [
    {
     "name": "stdout",
     "output_type": "stream",
     "text": [
      "              precision    recall  f1-score   support\n",
      "\n",
      "           0       0.69      0.77      0.73      1000\n",
      "           1       0.77      0.83      0.80      1000\n",
      "           2       0.62      0.58      0.60      1000\n",
      "           3       0.57      0.47      0.51      1000\n",
      "           4       0.65      0.66      0.66      1000\n",
      "           5       0.60      0.64      0.62      1000\n",
      "           6       0.74      0.79      0.76      1000\n",
      "           7       0.80      0.72      0.76      1000\n",
      "           8       0.80      0.82      0.81      1000\n",
      "           9       0.78      0.75      0.76      1000\n",
      "\n",
      "    accuracy                           0.70     10000\n",
      "   macro avg       0.70      0.70      0.70     10000\n",
      "weighted avg       0.70      0.70      0.70     10000\n",
      "\n"
     ]
    }
   ],
   "source": [
    "print(classification_report(y_test,y_classes_cnn))"
   ]
  },
  {
   "cell_type": "markdown",
   "id": "504520a6",
   "metadata": {},
   "source": [
    "                  ANN ----------> CNN \n",
    "        Accuracy  47%              70%\n",
    "Computation Time  slower           faster"
   ]
  },
  {
   "cell_type": "code",
   "execution_count": null,
   "id": "91795c38",
   "metadata": {},
   "outputs": [],
   "source": []
  }
 ],
 "metadata": {
  "kernelspec": {
   "display_name": "Python 3 (ipykernel)",
   "language": "python",
   "name": "python3"
  },
  "language_info": {
   "codemirror_mode": {
    "name": "ipython",
    "version": 3
   },
   "file_extension": ".py",
   "mimetype": "text/x-python",
   "name": "python",
   "nbconvert_exporter": "python",
   "pygments_lexer": "ipython3",
   "version": "3.10.6"
  }
 },
 "nbformat": 4,
 "nbformat_minor": 5
}
